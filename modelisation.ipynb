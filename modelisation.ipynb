{
 "cells": [
  {
   "cell_type": "markdown",
   "id": "e157b9c9-1e12-4e33-8f08-deba97c9d9d4",
   "metadata": {},
   "source": [
    "### Partie modélisation:\n",
    "\n",
    "* Importation du dataframe preprocessed\n",
    "* Séparation des données entre Train Data & Test Data\n",
    "* Equilibrage des données avec SMOTE ( Train Data uniquement)\n",
    "* Choix du modèle de classification optimal et son optimisation à travers des métriques technique et métier.\n",
    "* Interprétatbilité des résultats de prédiction avec SHAP.\n",
    "* Sérialisation avec Joblib, Pickle et Dill."
   ]
  },
  {
   "cell_type": "code",
   "execution_count": null,
   "id": "a457332b-adb5-445d-a77d-57b2c197d94b",
   "metadata": {},
   "outputs": [],
   "source": [
    "# Import des bibiliothèques nécessaires:\n",
    "import numpy as np\n",
    "import pandas as pd\n",
    "import gc\n",
    "import time\n",
    "from contextlib import contextmanager\n",
    "from lightgbm import LGBMClassifier\n",
    "from sklearn.metrics import roc_auc_score, roc_curve\n",
    "from sklearn.model_selection import cross_val_score, KFold, LeaveOneOut, StratifiedKFold, GridSearchCV\n",
    "\n",
    "from sklearn.model_selection import train_test_split\n",
    "\n",
    "from collections import Counter\n",
    "from sklearn.datasets import make_classification\n",
    "from imblearn.over_sampling import SMOTE\n",
    "from matplotlib import pyplot\n",
    "from numpy import where\n",
    "\n",
    "from sklearn.model_selection import KFold, StratifiedKFold\n",
    "import matplotlib.pyplot as plt\n",
    "import seaborn as sns\n",
    "import warnings\n",
    "warnings.simplefilter(action='ignore', category=FutureWarning)\n",
    "import warnings\n",
    "warnings.filterwarnings('ignore')"
   ]
  },
  {
   "cell_type": "code",
   "execution_count": null,
   "id": "f04570cf-d0a0-417d-bbdf-6cd401394687",
   "metadata": {
    "tags": []
   },
   "outputs": [],
   "source": [
    "@contextmanager\n",
    "def timer(title):\n",
    "    t0 = time.time()\n",
    "    yield\n",
    "    print(\"{} - done in {:.0f}s\".format(title, time.time() - t0))"
   ]
  },
  {
   "cell_type": "code",
   "execution_count": null,
   "id": "12a42f1a-3f99-4e67-ada8-163e92202011",
   "metadata": {
    "tags": []
   },
   "outputs": [],
   "source": [
    "# Définition de la fonction variance:\n",
    "def variance(data):\n",
    "     # Number of observations\n",
    "     n = len(data)\n",
    "     # Mean of the data\n",
    "     mean = sum(data) / n\n",
    "     # Square deviations\n",
    "     deviations = [(x - mean) ** 2 for x in data]\n",
    "     # Variance\n",
    "     variance = sum(deviations) / n\n",
    "     return variance"
   ]
  },
  {
   "cell_type": "markdown",
   "id": "69c33d53-6cd5-4411-b56e-012f5f867cb0",
   "metadata": {},
   "source": [
    "### Chargement du du dataframe preprocessed:"
   ]
  },
  {
   "cell_type": "code",
   "execution_count": null,
   "id": "1aea1960-ee9e-4ecd-960d-a00be90a96c4",
   "metadata": {},
   "outputs": [],
   "source": [
    "#On charge le dataframe preprocessed:\n",
    "df= pd.read_csv('df.csv')"
   ]
  },
  {
   "cell_type": "code",
   "execution_count": null,
   "id": "eaefe138-63bd-4e3f-b827-c7419abd7c80",
   "metadata": {},
   "outputs": [],
   "source": [
    "# SK_ID_CURR comme index\n",
    "df.set_index('sk_id_curr',inplace=True)"
   ]
  },
  {
   "cell_type": "code",
   "execution_count": null,
   "id": "48dacfdf-a49a-4094-a82c-72717c40850b",
   "metadata": {},
   "outputs": [],
   "source": [
    "df.head()"
   ]
  },
  {
   "cell_type": "code",
   "execution_count": null,
   "id": "09597b63-97f3-4d52-ba64-4c0113f1e13c",
   "metadata": {},
   "outputs": [],
   "source": [
    "df.info()"
   ]
  },
  {
   "cell_type": "raw",
   "id": "773e4ed7-f504-4afb-bc8b-a771345b925d",
   "metadata": {},
   "source": [
    "<class 'pandas.core.frame.DataFrame'>\n",
    "Float64Index: 307488 entries, 100002.0 to 456255.0\n",
    "Columns: 312 entries, target to instal_count\n",
    "dtypes: float64(312)\n",
    "memory usage: 734.3 MB"
   ]
  },
  {
   "cell_type": "markdown",
   "id": "f5e58654-cb8b-4de2-9fa3-0d8343362a79",
   "metadata": {},
   "source": [
    "### Séparation des données:"
   ]
  },
  {
   "cell_type": "code",
   "execution_count": null,
   "id": "66040f79-5c67-4b12-afc6-4f40966b7c26",
   "metadata": {},
   "outputs": [],
   "source": [
    "# Split des données en train & test\n",
    "X= df.drop(['target'],axis=1)\n",
    "y= df['target']\n",
    "X_train, X_test, y_train, y_test = train_test_split(X, y, test_size=0.4,shuffle=True, stratify=y, random_state=42)\n",
    "\n",
    "del df\n",
    "gc.collect()"
   ]
  },
  {
   "cell_type": "code",
   "execution_count": null,
   "id": "66bf67d4-3b91-48cd-b978-473d9429fb22",
   "metadata": {},
   "outputs": [],
   "source": [
    "# sample of X_test will be used later on the API part:\n",
    "X_test_sample = X_test.sample(n=20)\n",
    "X_test_sample.to_csv('X_test_sample.csv')"
   ]
  },
  {
   "cell_type": "code",
   "execution_count": null,
   "id": "c20e28b0-0851-469c-b9cb-0cd4810ea123",
   "metadata": {},
   "outputs": [],
   "source": [
    "X_test_sample.info()"
   ]
  },
  {
   "cell_type": "code",
   "execution_count": null,
   "id": "e68b074e-6a39-4df2-855b-9e3b28a03136",
   "metadata": {},
   "outputs": [],
   "source": [
    "# liste de l'échantillon des user ID\n",
    "user_id_list= X_test_sample.index.to_list()"
   ]
  },
  {
   "cell_type": "code",
   "execution_count": null,
   "id": "2c25f619-5eed-497a-9c17-d4b3c8e4cff7",
   "metadata": {},
   "outputs": [],
   "source": [
    "#liste de l'échantillon des user ID\n",
    "list(map(int, user_id_list))"
   ]
  },
  {
   "cell_type": "code",
   "execution_count": null,
   "id": "3efd8be5-2fdd-4f57-ad43-579491f1da82",
   "metadata": {},
   "outputs": [],
   "source": [
    "test_target_count = y_test.value_counts()\n",
    "print('Class 0:', test_target_count[0])\n",
    "print('Class 1:', test_target_count[1])\n",
    "print('Proportion:', round(test_target_count[0] / test_target_count[1], 2), ': 1')"
   ]
  },
  {
   "cell_type": "raw",
   "id": "f6629677-15c6-4711-9507-68151eda6a0b",
   "metadata": {},
   "source": [
    "Class 0: 113067\n",
    "Class 1: 9929\n",
    "Proportion: 11.39 : 1"
   ]
  },
  {
   "cell_type": "code",
   "execution_count": null,
   "id": "5a594798-c9be-42c6-a011-c32099150659",
   "metadata": {},
   "outputs": [],
   "source": [
    "train_target_count = y_train.value_counts()\n",
    "print('Class 0:', train_target_count[0])\n",
    "print('Class 1:', train_target_count[1])\n",
    "print('Proportion:', round(train_target_count[0] / train_target_count[1], 2), ': 1')"
   ]
  },
  {
   "cell_type": "raw",
   "id": "c0dd873d-74da-4847-ade3-a6be53dd66d5",
   "metadata": {},
   "source": [
    "Class 0: 169598\n",
    "Class 1: 14894\n",
    "Proportion: 11.39 : 1"
   ]
  },
  {
   "cell_type": "markdown",
   "id": "75c42e34-5d49-43b2-8dd2-fc7e31eda419",
   "metadata": {},
   "source": [
    "### SMOTE for unbalanced class: training set only"
   ]
  },
  {
   "cell_type": "code",
   "execution_count": null,
   "id": "be6453c0-575e-40c1-8d55-1d4e83e0730a",
   "metadata": {},
   "outputs": [],
   "source": [
    "# Oversample and plot imbalanced dataset with SMOTE\n",
    "# summarize class distribution\n",
    "print(\"class distribution before SMOTE:\")\n",
    "counter = Counter(y_train)\n",
    "print(counter)\n",
    "print('\\n')\n",
    "\n",
    "# transform the dataset\n",
    "oversample = SMOTE()\n",
    "X_train_s, y_train_s= oversample.fit_resample(X_train, y_train)\n",
    "\n",
    "# summarize the new class distribution\n",
    "print(\"class distribution after SMOTE:\")\n",
    "counter = Counter(y_train_s)\n",
    "print(counter)"
   ]
  },
  {
   "cell_type": "code",
   "execution_count": null,
   "id": "4381b9b3-5fc5-4aae-9c73-8cbffa3b9bf9",
   "metadata": {},
   "outputs": [],
   "source": [
    "X_train_s.info()"
   ]
  },
  {
   "cell_type": "markdown",
   "id": "39d4f115-b569-420d-a25e-b1649b6137de",
   "metadata": {},
   "source": [
    "### Comparaison des modèles de classification avec cross_val_score:"
   ]
  },
  {
   "cell_type": "markdown",
   "id": "93f838fc-ee4d-496f-b112-159ec3a91aaa",
   "metadata": {},
   "source": [
    "#### LightGBM classifier:"
   ]
  },
  {
   "cell_type": "code",
   "execution_count": null,
   "id": "83e27b12-21df-4a04-927a-a04b9087cf53",
   "metadata": {},
   "outputs": [],
   "source": [
    "# LightGBM classifier:\n",
    "clf_lgbm = LGBMClassifier()\n",
    "# Validation croisée avec cross_val_score:\n",
    "# Metric:  ‘roc_auc’\n",
    "with timer(\" process cross_val_score for lgbm\"): # process cross_val_score for lgbm - done in 61s\n",
    "        scores_lgbm= cross_val_score(clf_lgbm,X_train_s, y_train_s, cv= 4, scoring='roc_auc') "
   ]
  },
  {
   "cell_type": "code",
   "execution_count": null,
   "id": "9b3b6d43-aea7-4eb4-9e01-c06471c037c9",
   "metadata": {},
   "outputs": [],
   "source": [
    "print(scores_lgbm) # [0.88162016 0.99997028 0.99998038 0.99996053]\n",
    "print(scores_lgbm.mean()) # 0.9703828383557017\n",
    "print(variance(scores_lgbm)) # 0.0026262712086987383"
   ]
  },
  {
   "cell_type": "markdown",
   "id": "cc6c9a07-afac-4a0c-a2a0-2dc6d2305609",
   "metadata": {},
   "source": [
    "#### Gradient Boosting Classifier: "
   ]
  },
  {
   "cell_type": "code",
   "execution_count": null,
   "id": "a4faeaa7-1e57-4b74-b958-c51492cb1e6e",
   "metadata": {},
   "outputs": [],
   "source": [
    "from sklearn.ensemble import GradientBoostingClassifier \n",
    "\n",
    "clf_xgb= GradientBoostingClassifier(max_features= 'log2')\n",
    "#process cross_val_score for xgb - done in 342s\n",
    "#[0.87237321 0.99936311 0.99935889 0.9992222 ]\n",
    "#0.9675793521462993\n",
    "#0.0030214061820368976\n",
    "\n",
    "clf_xgb= GradientBoostingClassifier(max_features= 'sqrt')\n",
    "# process cross_val_score for xgb - done in 626s\n",
    "#[0.87243582 0.99948681 0.99961232 0.99966911]\n",
    "#0.9678010162024336\n",
    "#0.003031511055784114\n",
    "\n",
    "clf_xgb= GradientBoostingClassifier()\n",
    "#process cross_val_score for xgb - done in 5706s (env 96min)\n",
    "#[0.87529565 0.99992271 0.99993919 0.99994977]\n",
    "#0.9687768301317181\n",
    "#0.0029129103424552654"
   ]
  },
  {
   "cell_type": "code",
   "execution_count": null,
   "id": "c5020a5e-03bd-4f14-90b7-2188efda3205",
   "metadata": {},
   "outputs": [],
   "source": [
    "# Validation croisée avec cross_val_score:\n",
    "with timer(\" process cross_val_score for xgb\"):\n",
    "        scores_xgb= cross_val_score(clf_xgb,X_train_s, y_train_s, cv= 4, scoring='roc_auc') \n",
    "print(scores_xgb) \n",
    "print(scores_xgb.mean()) \n",
    "print(variance(scores_xgb)) "
   ]
  },
  {
   "cell_type": "markdown",
   "id": "5da30559-10b7-4427-9fc2-045ced160fed",
   "metadata": {},
   "source": [
    "#### Random Forest Classifier:"
   ]
  },
  {
   "cell_type": "code",
   "execution_count": null,
   "id": "63da0f8f-f439-4761-a7fa-0de3fde15b2c",
   "metadata": {},
   "outputs": [],
   "source": [
    "from sklearn.ensemble import RandomForestClassifier\n",
    "clf_rf = RandomForestClassifier()"
   ]
  },
  {
   "cell_type": "code",
   "execution_count": null,
   "id": "486b92e9-99a5-406c-b247-0f38dfb20fc5",
   "metadata": {},
   "outputs": [],
   "source": [
    "# Validation croisée avec cross_val_score:\n",
    "with timer(\" process cross_val_score for rf\"): # process cross_val_score for rf - done in 929s (env 17min)\n",
    "        scores_rf= cross_val_score(clf_rf,X_train_s, y_train_s, cv= 4, scoring='roc_auc')\n",
    "print(scores_rf) # [0.93448035 0.99999919 0.9999995  0.99999898]\n",
    "print(scores_rf.mean()) # 0.9836195039754854\n",
    "print(variance(scores_rf)) #0.0008"
   ]
  },
  {
   "cell_type": "markdown",
   "id": "97bae477-c233-4149-83a3-c2246ea04bbb",
   "metadata": {},
   "source": [
    "* On choisit le LightGBM classifier qui se démarque par sa durée de traitement."
   ]
  },
  {
   "cell_type": "markdown",
   "id": "102ed5c0-ce9a-4384-ba8a-afd326e7dbf5",
   "metadata": {},
   "source": [
    "### Optimisation des hyperparamètres du modèle le LightGBM classifier:"
   ]
  },
  {
   "cell_type": "code",
   "execution_count": null,
   "id": "245a5cdc-da3d-42a2-b6f3-5d601dfe7435",
   "metadata": {},
   "outputs": [],
   "source": [
    "# Optimisation avec hyperopt\n",
    "from hyperopt import fmin, tpe, hp, anneal, Trials\n",
    "from random import *\n",
    "from sklearn.metrics import fbeta_score\n",
    "\n",
    "    \n",
    "def lgbm_cv(params):\n",
    "    \n",
    "    params = {\n",
    "              'n_estimators': int(params['n_estimators']), \n",
    "              'max_depth': int(params['max_depth']),\n",
    "            'learning_rate': params['learning_rate']\n",
    "              }\n",
    "        \n",
    "    # we use this params to create a new LGBM Regressor\n",
    "    model = LGBMClassifier(**params )\n",
    "    \n",
    "    # and then conduct the cross validation with the same folds as before\n",
    "    \n",
    "    score = -cross_val_score(model, X_train_s,y_train_s, cv=3, scoring= 'roc_auc').mean()\n",
    "\n",
    "    return score"
   ]
  },
  {
   "cell_type": "code",
   "execution_count": null,
   "id": "d7973a1d-b278-45e9-a83e-21e886b4296d",
   "metadata": {},
   "outputs": [],
   "source": [
    "%%time\n",
    "\n",
    "from random import *\n",
    "\n",
    "# possible values of parameters\n",
    "space={ \n",
    "    'n_estimators': hp.quniform('n_estimators', 100, 2000, 1),\n",
    "       'max_depth' : hp.quniform('max_depth', 2, 20, 1),\n",
    "       'learning_rate': hp.loguniform('learning_rate', -5, 0)\n",
    "      }\n",
    "\n",
    "\n",
    "#trials will contain logging information\n",
    "trials = Trials()\n",
    "\n",
    "best=fmin(lgbm_cv, # function to optimize\n",
    "          space=space, \n",
    "          algo=tpe.suggest, # optimization algorithm, hyperotp will select its parameters automatically\n",
    "          max_evals= 50, # maximum number of iterations\n",
    "          trials=trials # logging\n",
    "         )\n",
    "   "
   ]
  },
  {
   "cell_type": "code",
   "execution_count": null,
   "id": "b3c5d30f-bca3-4633-a5a9-221c9b8cb43c",
   "metadata": {},
   "outputs": [],
   "source": [
    "best"
   ]
  },
  {
   "cell_type": "raw",
   "id": "0e33fe6d-98c4-4433-9d91-bd858fbbd0dd",
   "metadata": {},
   "source": [
    "100%|██████████| 50/50 [3:02:39<00:00, 219.18s/trial, best loss: -0.9714794570211969]  \n",
    "Wall time: 3h 2min 39s\n",
    "#best\n",
    "{'learning_rate': 0.007939102526359921,\n",
    " 'max_depth': 20.0,\n",
    " 'n_estimators': 1082.0}"
   ]
  },
  {
   "cell_type": "code",
   "execution_count": null,
   "id": "5fb122cd-e604-4e2a-a9f6-07889915c5fa",
   "metadata": {},
   "outputs": [],
   "source": [
    "# computing the score on the test set\n",
    "lgbm = LGBMClassifier( n_estimators= 1082,learning_rate= 0.007939102526359921,max_depth= 20)"
   ]
  },
  {
   "cell_type": "code",
   "execution_count": null,
   "id": "eab99057-1354-479b-b31f-732f8d816302",
   "metadata": {},
   "outputs": [],
   "source": [
    "with timer(\" process fit for lgbm\"): #  process fit for lgbm - done in 154s\n",
    "        lgbm.fit(X_train_s,y_train_s)"
   ]
  },
  {
   "cell_type": "code",
   "execution_count": null,
   "id": "d748fa9d-dacd-40dc-9376-53a685497781",
   "metadata": {},
   "outputs": [],
   "source": [
    "pred_lgbm= lgbm.predict(X_test)"
   ]
  },
  {
   "cell_type": "code",
   "execution_count": null,
   "id": "6125caf9-2cde-47a5-886f-e23e547b6969",
   "metadata": {},
   "outputs": [],
   "source": [
    "from sklearn.metrics import classification_report\n",
    "target_names = ['Class 0', 'Class 1']\n",
    "print(classification_report(y_test, pred_lgbm, target_names=target_names))"
   ]
  },
  {
   "cell_type": "raw",
   "id": "57ceef01-e7ed-4d10-9aaa-df58c2f264ff",
   "metadata": {},
   "source": [
    "#Classification report:\n",
    "\n",
    "             precision    recall  f1-score   support\n",
    "\n",
    "     Class 0       0.92      1.00      0.96    113067\n",
    "     Class 1       0.61      0.01      0.03      9929\n",
    "\n",
    "    accuracy                           0.92    122996\n",
    "   macro avg       0.77      0.51      0.49    122996\n",
    "weighted avg       0.90      0.92      0.88    122996\n"
   ]
  },
  {
   "cell_type": "code",
   "execution_count": null,
   "id": "fb66b869-0600-4a9d-9f84-2817e55fc2eb",
   "metadata": {},
   "outputs": [],
   "source": [
    "from sklearn.metrics import confusion_matrix\n",
    "confusion_matrix(y_test, pred_lgbm)"
   ]
  },
  {
   "cell_type": "raw",
   "id": "799623e4-378d-4c54-98be-1eefd4647d1a",
   "metadata": {},
   "source": [
    "#Matrice de confusion:\n",
    "\n",
    "array([[112981,     86],\n",
    "       [  9793,    136]], dtype=int64)"
   ]
  },
  {
   "cell_type": "markdown",
   "id": "64e65f52-c7d1-4605-bade-e510d4c1dd9c",
   "metadata": {},
   "source": [
    "### Optimisation des hyperparamètres avec un scoring métier:"
   ]
  },
  {
   "cell_type": "markdown",
   "id": "99dbbf00-1593-45f2-a29c-a6dd64884caa",
   "metadata": {},
   "source": [
    "#### Application de hyperopt:"
   ]
  },
  {
   "cell_type": "code",
   "execution_count": null,
   "id": "99408af7-9789-49d0-a565-63d25d8fb730",
   "metadata": {},
   "outputs": [],
   "source": [
    "from hyperopt import fmin, tpe, hp, anneal, Trials\n",
    "from random import *\n",
    "from sklearn.metrics import fbeta_score, make_scorer\n",
    "\n",
    "    \n",
    "def lgbm_cv(params):\n",
    "    \n",
    "    params = {  'n_estimators': int(params['n_estimators']), \n",
    "              'max_depth': int(params['max_depth']),\n",
    "            'learning_rate': params['learning_rate']\n",
    "             }\n",
    "    \n",
    "    # we use this params to create a new LGBM Regressor\n",
    "    model = LGBMClassifier(**params)\n",
    "    \n",
    "    # and then conduct the cross validation with the same folds as before\n",
    "    # beta=3\n",
    "    fbeta_scorer = make_scorer(fbeta_score, beta=3) \n",
    "    score = -cross_val_score(model, X_train_s,y_train_s, cv=3, scoring= fbeta_scorer).mean()\n",
    "\n",
    "    return score"
   ]
  },
  {
   "cell_type": "code",
   "execution_count": null,
   "id": "19d988da-8fcd-4450-a22f-53c89d483132",
   "metadata": {},
   "outputs": [],
   "source": [
    "%%time\n",
    "\n",
    "from random import *\n",
    "\n",
    "# possible values of parameters\n",
    "space={  'n_estimators': hp.quniform('n_estimators', 100, 2000, 1),\n",
    "       'max_depth' : hp.quniform('max_depth', 2, 20, 1),\n",
    "       'learning_rate': hp.loguniform('learning_rate', -5, 0)\n",
    "      }\n",
    "\n",
    "# trials will contain logging information\n",
    "trials = Trials()\n",
    "\n",
    "best=fmin(lgbm_cv, # function to optimize\n",
    "          space=space, \n",
    "          algo=tpe.suggest, # optimization algorithm, hyperotp will select its parameters automatically\n",
    "          max_evals= 50, # maximum number of iterations\n",
    "          trials=trials, # logging\n",
    "         )\n",
    "                       \n",
    "    "
   ]
  },
  {
   "cell_type": "code",
   "execution_count": null,
   "id": "e6ebe2e0-dd00-4645-809b-03ebd0d1975d",
   "metadata": {},
   "outputs": [],
   "source": [
    "best"
   ]
  },
  {
   "cell_type": "raw",
   "id": "2c285bd3-8759-4e59-869c-6e1f697451fe",
   "metadata": {},
   "source": [
    "100%|██████████| 50/50 [3:31:57<00:00, 254.34s/trial, best loss: -0.9182274078515912]  \n",
    "Wall time: 3h 31min 57s\n",
    "\n",
    "#best\n",
    "{'learning_rate': 0.012662637532738413,\n",
    " 'max_depth': 5.0,\n",
    " 'n_estimators': 1754.0}"
   ]
  },
  {
   "cell_type": "code",
   "execution_count": null,
   "id": "d67481a1-58eb-4e43-865b-49883b19590d",
   "metadata": {},
   "outputs": [],
   "source": [
    "# computing the score on the test set using the best parmaeters:\n",
    "lgbm = LGBMClassifier( n_estimators= 1754,learning_rate= 0.012662637532738413,max_depth= 5)"
   ]
  },
  {
   "cell_type": "code",
   "execution_count": null,
   "id": "3c52f027-f9b8-4f92-9359-aadb5090ec27",
   "metadata": {},
   "outputs": [],
   "source": [
    "with timer(\" process fit for lgbm\"): #  process fit for lgbm - done in 146s\n",
    "        lgbm.fit(X_train_s,y_train_s)"
   ]
  },
  {
   "cell_type": "code",
   "execution_count": null,
   "id": "b0fd82f3-9c7a-4838-946d-e2bc8b1edf10",
   "metadata": {},
   "outputs": [],
   "source": [
    "pred_lgbm= lgbm.predict(X_test)"
   ]
  },
  {
   "cell_type": "code",
   "execution_count": null,
   "id": "eaadf5bb-7566-4dc2-ab83-6697769d7169",
   "metadata": {},
   "outputs": [],
   "source": [
    "from sklearn.metrics import classification_report\n",
    "target_names = ['Class 0', ' Class 1']\n",
    "print(classification_report(y_test, pred_lgbm, target_names=target_names))"
   ]
  },
  {
   "cell_type": "raw",
   "id": "43406979-74cc-48b8-9b94-57f34604a6cf",
   "metadata": {},
   "source": [
    "       precision    recall  f1-score   support\n",
    "\n",
    "     Class 0       0.92      1.00      0.96    113067\n",
    "     Class 1       0.59      0.03      0.05      9929\n",
    "\n",
    "    accuracy                           0.92    122996\n",
    "   macro avg       0.75      0.51      0.51    122996\n",
    "weighted avg       0.89      0.92      0.89    122996"
   ]
  },
  {
   "cell_type": "code",
   "execution_count": null,
   "id": "5e46a718-25de-46f6-8594-03c96d9c79e0",
   "metadata": {},
   "outputs": [],
   "source": [
    "from sklearn.metrics import confusion_matrix\n",
    "confusion_matrix(y_test, pred_lgbm,labels= [0,1])"
   ]
  },
  {
   "cell_type": "raw",
   "id": "bafd9580-a053-46a1-a797-8c6ab2b708b2",
   "metadata": {},
   "source": [
    "array([[112859,    208],\n",
    "       [  9641,    288]], dtype=int64)"
   ]
  },
  {
   "cell_type": "markdown",
   "id": "565149a5-439b-45d2-b2bb-339ea32fa5c5",
   "metadata": {},
   "source": [
    "* Amélioration du score du Recall après optimisation métier (FN passe de 9793 à 9647)"
   ]
  },
  {
   "cell_type": "markdown",
   "id": "be3875fe-edaa-4bcc-951f-a9507b6fbc5d",
   "metadata": {},
   "source": [
    "### Features importance"
   ]
  },
  {
   "cell_type": "code",
   "execution_count": null,
   "id": "f384b7f0-ab88-426a-bb48-efc456a67d00",
   "metadata": {},
   "outputs": [],
   "source": [
    "import pandas as pd\n",
    "%matplotlib inline\n",
    "#do code to support model\n",
    "#\"data\" is the X dataframe and model is the SKlearn object\n",
    "\n",
    "feats = {} # a dict to hold feature_name: feature_importance\n",
    "for feature, importance in zip(X_train_s.columns, lgbm.feature_importances_):\n",
    "    feats[feature] = importance #add the name/value pair \n",
    "\n",
    "importances = pd.DataFrame.from_dict(feats, orient='index').rename(columns={0: 'importance'})\n",
    "#importances.sort_values(by='importance').plot(kind='bar', rot=45)"
   ]
  },
  {
   "cell_type": "code",
   "execution_count": null,
   "id": "ddaa717b-bbb4-457b-a591-5c17d8a44e01",
   "metadata": {},
   "outputs": [],
   "source": [
    "importances.sort_values(by='importance',ascending= False).head(20).plot(kind='bar', rot=90)"
   ]
  },
  {
   "cell_type": "code",
   "execution_count": null,
   "id": "a9386b99-0a6e-4d19-b7f7-43143b3773fe",
   "metadata": {},
   "outputs": [],
   "source": [
    "importances.sort_values(by='importance', ascending= False).head(20)"
   ]
  },
  {
   "cell_type": "markdown",
   "id": "224167df-1eb7-4627-b535-863c0c2ba99e",
   "metadata": {},
   "source": [
    "### Features importance with SHAP"
   ]
  },
  {
   "cell_type": "code",
   "execution_count": null,
   "id": "77dbf905-837a-46e4-81c6-80e512215929",
   "metadata": {},
   "outputs": [],
   "source": [
    "import shap\n",
    "shap.initjs()"
   ]
  },
  {
   "cell_type": "code",
   "execution_count": null,
   "id": "33003bd7-3633-48ff-a173-c1ea7758a4ff",
   "metadata": {},
   "outputs": [],
   "source": [
    "# Here we use the Tree SHAP implementation integrated into Light GBM to explain the dataset:\n",
    "explainer = shap.TreeExplainer(lgbm)"
   ]
  },
  {
   "cell_type": "code",
   "execution_count": null,
   "id": "c0fb7c42-4887-4e17-861c-d32986522ef6",
   "metadata": {},
   "outputs": [],
   "source": [
    "shap_values = explainer.shap_values(X_test_sample)"
   ]
  },
  {
   "cell_type": "code",
   "execution_count": null,
   "id": "b7da22e4-55d7-4e78-85a0-491aa8b20577",
   "metadata": {},
   "outputs": [],
   "source": [
    "# Visualize a single prediction:\n",
    "shap.force_plot(explainer.expected_value[1], shap_values[1][0,:], X_test_sample.iloc[0,:])"
   ]
  },
  {
   "cell_type": "code",
   "execution_count": null,
   "id": "40b2a38a-ee73-47a5-89d9-151c76f23231",
   "metadata": {},
   "outputs": [],
   "source": [
    "#  Impact of the individual feature on all sample: .\n",
    "shap.force_plot(explainer.expected_value[1], shap_values[1], X_test_sample)"
   ]
  },
  {
   "cell_type": "code",
   "execution_count": null,
   "id": "acd8890e-cc1f-4503-b8e5-bd0e238d423a",
   "metadata": {},
   "outputs": [],
   "source": [
    "# SHAP Summary Plot: \n",
    "shap.summary_plot(shap_values, X_test_sample)"
   ]
  },
  {
   "cell_type": "markdown",
   "id": "951d68dd-7d20-4bf2-ab4d-a5e82c2a7655",
   "metadata": {},
   "source": [
    "### Sauvegarde de explainer & shap_values pour le dashboard:"
   ]
  },
  {
   "cell_type": "code",
   "execution_count": null,
   "id": "234fbeea-dfce-44e1-aaa6-2fd1b8657376",
   "metadata": {},
   "outputs": [],
   "source": [
    "import dill \n",
    "# To save explainer:\n",
    "with open('explainer.pkl', 'wb') as file:\n",
    "    dill.dump(explainer, file)"
   ]
  },
  {
   "cell_type": "code",
   "execution_count": null,
   "id": "0ead9955-3e36-4be7-b8e9-690870043f6b",
   "metadata": {},
   "outputs": [],
   "source": [
    "shap_values = explainer.shap_values(X_test_sample)"
   ]
  },
  {
   "cell_type": "code",
   "execution_count": null,
   "id": "ff08e268-9d85-4d91-bc4d-c8833a561571",
   "metadata": {},
   "outputs": [],
   "source": [
    "## To save shap_values:\n",
    "with open('shap_values.pkl', 'wb') as file:\n",
    "    dill.dump(shap_values, file)"
   ]
  },
  {
   "cell_type": "markdown",
   "id": "f00a86dc-0d28-46d5-8029-80d8a0bb19f6",
   "metadata": {},
   "source": [
    "### Sérialisation du modèle avec Joblib:"
   ]
  },
  {
   "cell_type": "code",
   "execution_count": null,
   "id": "f4560128-0368-4641-b862-a7ee014fdb6e",
   "metadata": {},
   "outputs": [],
   "source": [
    "import joblib"
   ]
  },
  {
   "cell_type": "code",
   "execution_count": null,
   "id": "000091c3-d3f9-4642-9b59-eb4220ea6f17",
   "metadata": {},
   "outputs": [],
   "source": [
    "joblib.dump(lgbm, 'lgbm.joblib')"
   ]
  },
  {
   "cell_type": "markdown",
   "id": "e0176f91-a98b-4d1a-947e-c9164a032140",
   "metadata": {},
   "source": [
    "### Sérialisation du modèle avec pickle:\n"
   ]
  },
  {
   "cell_type": "code",
   "execution_count": null,
   "id": "a47dd0c0-c9bc-400d-a95d-173721ae50e7",
   "metadata": {},
   "outputs": [],
   "source": [
    "# saving the model \n",
    "import pickle \n",
    "pickle_out = open(\"lgbm.pkl\", mode = \"wb\") \n",
    "pickle.dump(lgbm, pickle_out) \n",
    "pickle_out.close()"
   ]
  }
 ],
 "metadata": {
  "kernelspec": {
   "display_name": "Python 3 (ipykernel)",
   "language": "python",
   "name": "python3"
  },
  "language_info": {
   "codemirror_mode": {
    "name": "ipython",
    "version": 3
   },
   "file_extension": ".py",
   "mimetype": "text/x-python",
   "name": "python",
   "nbconvert_exporter": "python",
   "pygments_lexer": "ipython3",
   "version": "3.7.12"
  }
 },
 "nbformat": 4,
 "nbformat_minor": 5
}
